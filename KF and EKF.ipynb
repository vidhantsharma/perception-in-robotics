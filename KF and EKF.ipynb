{
  "cells": [
    {
      "cell_type": "markdown",
      "metadata": {
        "id": "39SoiSGWYD0O"
      },
      "source": [
        "**Lab 2: Kalman Filter and its variant**\n",
        "\n",
        "In this lab, you will implement a kalman filter, extended kalman filter \n",
        "and compare their performance.\n",
        "\n",
        "The system is a simple pendulum and the filters are to track the pendulum's state given by the tuple of its angle and angular velocity (angle is the deviation from the vertical). \n",
        "\n",
        "You have to write:\n",
        "b) equation for kalman filter\n",
        "c) implement it\n",
        "d) equations for extended kalman filter\n",
        "e) implement it\n",
        "\n",
        "You can use embedded latex to work out the syntax.\n",
        "https://colab.research.google.com/github/bebi103a/bebi103a.github.io/blob/master/lessons/00/intro_to_latex.ipynb#scrollTo=Lf4u9FLje0Gd\n",
        "has a brief tutorial on this.\n",
        "\n",
        "Finally, you need to  tabulate the rmserror for the two\n",
        "filters for different settings and tabulate the result in the final panel."
      ]
    },
    {
      "cell_type": "code",
      "execution_count": null,
      "metadata": {
        "id": "Ghqi6Xn7zK6z"
      },
      "outputs": [],
      "source": [
        "%matplotlib inline"
      ]
    },
    {
      "cell_type": "code",
      "execution_count": null,
      "metadata": {
        "id": "2uHjXe1T6v8i"
      },
      "outputs": [],
      "source": [
        "import numpy as np\n",
        "import math\n",
        "from scipy import linalg\n",
        "import matplotlib.pyplot as plt"
      ]
    },
    {
      "cell_type": "markdown",
      "metadata": {
        "id": "IM2-mLQhrpJx"
      },
      "source": [
        "**Simple pendulum Model**\n",
        "\n",
        "$l$ : Length of pendulum\n",
        "\n",
        "$m$ : Mass of pendulum\n",
        "\n",
        "$G$ : Acceleration due to gravity\n",
        "\n",
        "$dt$ : Time step\n",
        "\n",
        "$\\theta_n$ : Angular deviation from vertical at timestep $n$(counter clockwise is positive)\n",
        "\n",
        "$\\dot{\\theta}_n$: Angular velocity at timestep $n$\n",
        "\n",
        "$\\theta_{n+1} = \\theta_n + \\dot{\\theta}_n  dt $\n",
        "\n",
        "$\\dot{\\theta}_{n+1} = \\dot{\\theta}_n - \\frac {G} {l} \\sin(\\theta_n) dt$\n",
        "\n",
        "Measurment of angle:\n",
        "\n",
        "$z_n = C*\\begin{bmatrix}\\theta_n\\\\ \\dot{\\theta}_n \\end{bmatrix} + q$\n",
        "\n",
        "where $q \\sim N(0,Q)$ and $Q$ is a 1x1 variance matrix\n",
        "\n"
      ]
    },
    {
      "cell_type": "code",
      "execution_count": null,
      "metadata": {
        "id": "pp0vpMV46U64"
      },
      "outputs": [],
      "source": [
        "# DONT EDIT THIS #\n",
        "#simulation of a pendulum\n",
        "class Pendulum:\n",
        "  '''Pendulum'''\n",
        "  def __init__(\n",
        "    self,\n",
        "    l, #length in meters\n",
        "    angl0, #initial angle in radians\n",
        "    avel0, #initial angular velocity in radians/s\n",
        "    G, #acceleration due to gravity in m/s^2\n",
        "    R, #process noise co-variance 2x2 matrix\n",
        "    Q, #measurement co-variance 1x1\n",
        "    rng_p, #random noise generator for process\n",
        "    rng_m, #random noise generator for measurement\n",
        "  ):\n",
        "    self.angl = angl0\n",
        "    self.avel = avel0\n",
        "    self.l = l\n",
        "    self.G = G\n",
        "    self.R = R\n",
        "    self.Q = Q\n",
        "    self.rng_p = rng_p\n",
        "    self.rng_m = rng_m\n",
        "\n",
        "  def step (\n",
        "      self,\n",
        "      dt #timestep in seconds\n",
        "    ):\n",
        "   \n",
        "    #sample process noise\n",
        "    a_n, v_n = self.rng_p.multivariate_normal([0,0],R)\n",
        "    angl1 = self.avel*dt + self.angl + a_n   \n",
        "    avel1 = -self.G/self.l*math.sin(self.angl)*dt + self.avel + v_n\n",
        "    self.avel = avel1\n",
        "    self.angl = angl1\n",
        "\n",
        "  def getState (self):\n",
        "    '''True State: Useful to calculate RMS error'''\n",
        "    return self.angl, self.avel\n",
        "\n",
        "  def measure (self):\n",
        "    '''Actual measurement of position via a sensor'''\n",
        "    return self.angl + self.rng_m.standard_normal()*self.Q"
      ]
    },
    {
      "cell_type": "markdown",
      "metadata": {
        "id": "Sp_a0Az37Fxy"
      },
      "source": [
        "**Kalman Filter**\n",
        "\n",
        "Linearize around $\\theta = 0$\n",
        "\n",
        "$\n",
        "\\begin{bmatrix}\n",
        "  \\theta_{n+1}\\\\\n",
        "  \\dot{\\theta}_{n+1}\n",
        "\\end{bmatrix}\n",
        " = \n",
        " \\begin{bmatrix}\n",
        "  1 & dt\\\\\n",
        "  -\\frac{G}{l}dt & 1\n",
        "\\end{bmatrix}\n",
        "\\begin{bmatrix}\n",
        "  \\theta_{n}\\\\\n",
        "  \\dot{\\theta}_{n}\n",
        "\\end{bmatrix}\n",
        "+ B*u_n + r_n\n",
        "$\n",
        "\n",
        "where $r_n \\sim N(0,R)$ and R is a 2x2 covariance matrix.\n",
        "\n",
        "B is a 2x2 input matrix and u_n is the input at time n\n",
        "\n",
        "Let \n",
        "$\n",
        "A = \\begin{bmatrix}\n",
        "  1 & dt\\\\\n",
        "  -\\frac{G}{l}dt & 1\n",
        "\\end{bmatrix}\n",
        "$ the process matrix.\n",
        "\n",
        "We will model the state as a gaussian as \n",
        "$\n",
        "\\begin{bmatrix}\n",
        "  \\theta_n\\\\\n",
        "  \\dot{\\theta}_n\n",
        "\\end{bmatrix}\n",
        "\\sim N(\\mu_n,P_n)\n",
        "$\n",
        "where\n",
        "\n",
        "$\\mu_n$ is a 2x1 column matrix for the means of the angle and angular velocity and\n",
        "\n",
        "$P_n$ is the 2x2 process covariance matrix\n"
      ]
    },
    {
      "cell_type": "markdown",
      "metadata": {
        "id": "QtoWx2CY10PM"
      },
      "source": [
        "**Question 1: Write the Kalman Filter Equations**\n",
        "\n",
        "*Predict*\n",
        "\n",
        "$\n",
        "\\mu_p = A_n \\mu_{n} + B_nu_n\n",
        "$\n",
        "\n",
        "$\n",
        "P_p = A_nP_nA_n^T + R_n\n",
        "$\n",
        "\n",
        "*Gain*\n",
        "\n",
        "$\n",
        "K = P_pC_n^T(C_nP_pC_n^T + Q_n)^{-1}\n",
        "$\n",
        "\n",
        "*Update*\n",
        "\n",
        "$\n",
        "\\mu_{n+1} = \\mu_p + K(z_{n+1}-C_n\\mu_p)\n",
        "$\n",
        "\n",
        "$\n",
        "P_n = (I-KC_n)P_p\n",
        "$"
      ]
    },
    {
      "cell_type": "code",
      "execution_count": null,
      "metadata": {
        "id": "vtaJwAgDax9Z"
      },
      "outputs": [],
      "source": [
        "#Edit the function step by replacing None with your answer\n",
        "class KalmanFilter:\n",
        "  ''' Kalman Filter'''\n",
        "  def __init__(\n",
        "    self,\n",
        "    mu0, #initial mean of the state\n",
        "    P0,#Initial State covariance matrix\n",
        "    R, #Motion covariance matrix\n",
        "    Q, #Measurement covariance matrix\n",
        "    A, #motion matrix\n",
        "    B, #input matrix\n",
        "    C, #measurement matrix\n",
        "  ):\n",
        "    self.mu = mu0\n",
        "    self.P = P0\n",
        "    self.R = R\n",
        "    self.Q = Q\n",
        "    self.A = A\n",
        "    self.B = B\n",
        "    self.C = C\n",
        "    self.mu_p = mu0 #predictor's mean\n",
        "    self.P_p = P0  #predictor's covariance\n",
        "\n",
        "  def step (self,u_t, z_t):\n",
        "    '''update the posterior based on the measurement and predicted prior\n",
        "    u_t: input at time t\n",
        "    z : measurement at time t\n",
        "    '''\n",
        "    #prediction Equations\n",
        "    #self.mu_p = None\n",
        "    self.mu_p = np.dot(self.A,self.mu) + np.dot(self.B,u_t) \n",
        "    #self.P_p = None\n",
        "    self.P_p = np.dot(np.dot(self.A,self.P),np.transpose(self.A)) + self.R\n",
        "\n",
        "    #Kalman. Gain\n",
        "    #K = None\n",
        "    K = np.dot(np.dot(self.P_p,np.transpose(self.C)),np.linalg.inv(np.dot(np.dot(self.C,self.P_p),np.transpose(self.C)) + self.Q))\n",
        "\n",
        "    #update/correction equation\n",
        "    #self.mu = None\n",
        "    self.mu = self.mu_p + np.dot(K,(z_t - np.dot(self.C,self.mu_p)))\n",
        "    #self.P = None\n",
        "    self.P = np.dot((np.identity(np.shape(np.dot(K,self.C))[0]) - np.dot(K,self.C)),self.P_p)\n",
        "\n",
        "  def probe (self):\n",
        "    ''' return state '''\n",
        "    return self.mu, self.P"
      ]
    },
    {
      "cell_type": "markdown",
      "metadata": {
        "id": "DCYTPUbk6QkW"
      },
      "source": [
        "\n",
        "**Equations for Extended Kalman Filter**\n",
        "\n",
        "$\n",
        "\\mu_{\\theta_{n+1}} = \\mu_n + \\dot{\\mu}_n  dt\n",
        "$\n",
        "\n",
        "$\n",
        "\\dot\\mu_{\\theta_{n+1}} = \\dot{\\mu}_n - \\frac {G} {l} \\sin(\\mu_n) dt \n",
        "$\n",
        "\n",
        "$\n",
        "A_n = \n",
        "\\begin{bmatrix}\n",
        "1 & dt\\\\\n",
        "- \\frac {G} {l} \\cos(\\mu_p) dt & 1\n",
        "\\end{bmatrix}\n",
        "$\n",
        "\n",
        "The filter equations are same as for kalman above - except, A gets replaced with $A_n$"
      ]
    },
    {
      "cell_type": "code",
      "execution_count": null,
      "metadata": {
        "id": "jlAMWw8MGQpK"
      },
      "outputs": [],
      "source": [
        "#Edit two function step\n",
        "class ExtendedKalmanFilter_Pendulum:\n",
        "  ''' Extended Kalman Filter for Pendulum'''\n",
        "  def __init__(\n",
        "    self,\n",
        "    mu0, #initial mean of the state\n",
        "    P0,#Initial State covariance matrix\n",
        "    B, #input matrix\n",
        "    R, #Motion covariance matrix\n",
        "    Q, #Measurement covariance matrix\n",
        "    G, #gravity acceleration\n",
        "    l, #length\n",
        "    C, #measurement matrix\n",
        "  ):\n",
        "    self.mu = mu0\n",
        "    self.P = P0\n",
        "    self.B = B\n",
        "    self.R = R\n",
        "    self.Q = Q\n",
        "    self.G = G\n",
        "    self.l = l\n",
        "    self.C = C\n",
        "\n",
        "    self.mu_p = mu0 #predictor's mean\n",
        "    self.P_p = P0  #predictor's covariance\n",
        "\n",
        "  def step (self,dt, u_t, z_t):\n",
        "    '''update the posterior based on the measurement and predicted prior\n",
        "    dt : time step\n",
        "    u_t: input at time t\n",
        "    z : measurement at time t\n",
        "    '''\n",
        "    #prediction Equations\n",
        "    #angle update\n",
        "    self.mu_p[0][0] = self.mu[0][0] + self.mu[1][0]*dt + np.dot(self.B[0],u_t)\n",
        "    #anglevelocity update\n",
        "    self.mu_p[1][0] = self.mu[1][0] - (self.G/self.l)*np.sin(self.mu[0][0])*dt + np.dot(self.B[1],u_t)\n",
        "\n",
        "    #linearize about mu_p\n",
        "    A = np.array([[1,dt],[-(self.G/self.l)*np.cos(self.mu[0][0])*dt,1]])\n",
        "    #covarince update\n",
        "    self.P_p = np.dot(np.dot(A,self.P),np.transpose(A)) + self.R\n",
        "\n",
        "    #Kalman. Gain\n",
        "    #K = None\n",
        "    K = np.dot(np.dot(self.P_p,np.transpose(self.C)),np.linalg.inv(np.dot(np.dot(self.C,self.P_p),np.transpose(self.C)) + self.Q))\n",
        "\n",
        "    #update/correction equation\n",
        "    #self.mu = None\n",
        "    #self.P = None\n",
        "    self.mu = self.mu_p + np.dot(K,(z_t - np.dot(self.C,self.mu_p)))\n",
        "    self.P = np.dot((np.identity(np.shape(np.dot(K,self.C))[0]) - np.dot(K,self.C)),self.P_p)\n",
        "\n",
        "  def probe (self):\n",
        "    ''' return state '''\n",
        "    return self.mu, self.P"
      ]
    },
    {
      "cell_type": "code",
      "execution_count": null,
      "metadata": {
        "colab": {
          "base_uri": "https://localhost:8080/",
          "height": 331
        },
        "id": "4X52uqJg6iiz",
        "outputId": "c8104df4-7e43-4367-b00e-01f4fd6c5ba0"
      },
      "outputs": [
        {
          "output_type": "stream",
          "name": "stdout",
          "text": [
            "KF RMS Error= 56.494675485606784\n",
            "EKF RMS Error= 0.06112496589118442\n"
          ]
        },
        {
          "output_type": "execute_result",
          "data": {
            "text/plain": [
              "[<matplotlib.lines.Line2D at 0x7f7237f2de50>]"
            ]
          },
          "metadata": {},
          "execution_count": 6
        },
        {
          "output_type": "display_data",
          "data": {
            "image/png": "[encoded data removed]",
            "text/plain": [
              "<Figure size 432x288 with 1 Axes>"
            ]
          },
          "metadata": {
            "needs_background": "light"
          }
        }
      ],
      "source": [
        "# Compare the filters\n",
        "\n",
        "#Experiment with different settings of these paramters and fill table in the next cell\n",
        "dt = 0.001     #timestep size\n",
        "numSteps = 2200 #number of time steps for simulation\n",
        "#Process noise variance: R00: angle noise, R11: Velocity noise\n",
        "R = np.diag([0.01,0])\n",
        "#measurement noise variance\n",
        "Q = [0.01]\n",
        "\n",
        "\n",
        "\n",
        "G=10 #Nm/s^2. \n",
        "l = 1 #1 meter\n",
        "\n",
        "# Instantiate two random number generators - one for process\n",
        "# noise and other for measurement noise. Give seeds to allow\n",
        "# for predictable sequence of random values across multiple runs.\n",
        "# Helps debugging and reproducing results.\n",
        "rng_p = np.random.default_rng(123)\n",
        "rng_m = np.random.default_rng(345)\n",
        "\n",
        "\n",
        "# Create pendulum\n",
        "p = Pendulum(l=l, angl0=math.pi/4, avel0=0, G=G, R=R, Q=Q[0],rng_p=rng_p, rng_m=rng_m)\n",
        "\n",
        "\n",
        "A = np.array([[1,dt],[-G/l*dt, 1]]) #linearization for small angles around 0 used in Kalman Filter\n",
        "C = np.array([[1,0]]) #only angle is measured\n",
        "B = np.array([[0,0],[0,1]])  #allow input only in velocity\n",
        "P0 = np.diag([0.1,0.1])\n",
        "mu0 = np.array([[math.pi/4],[0]])   #initial angle and angular velocity\n",
        "\n",
        "# Instantiate Kalman Filter\n",
        "kf = KalmanFilter(mu0=mu0,A=A, B=B, C=C, P0=P0, R=R, Q=Q)\n",
        "# Instantiate Extended Kalman Filter\n",
        "ekf = ExtendedKalmanFilter_Pendulum(mu0=mu0, B=B, C=C, P0=P0, R=R, Q=Q,G=G,l=l)\n",
        "\n",
        "# Create some book keeping matrices for angle and velocity \n",
        "a = np.zeros(numSteps)\n",
        "v = np.zeros(numSteps)\n",
        "am = np.zeros(numSteps)\n",
        "kferr = np.zeros(numSteps)\n",
        "ekferr = np.zeros(numSteps)\n",
        "kfaerr = np.zeros(numSteps)\n",
        "ekfaerr = np.zeros(numSteps)\n",
        "kfverr = np.zeros(numSteps)\n",
        "ekfverr = np.zeros(numSteps)\n",
        "\n",
        "akf = mu0\n",
        "vkf = P0\n",
        "aekf = mu0\n",
        "vekf = P0\n",
        "fig,ax = plt.subplots(1,1)\n",
        "ax.set_xlabel(\"angle\")\n",
        "ax.set_ylabel(\"angle velocity\")\n",
        "for i in range(numSteps):\n",
        "  p.step(dt)\n",
        "  a[i],v[i] = p.getState() #true state of angle and angular velocity\n",
        "\n",
        "  am[i] = p.measure() #measurement of the angle via sensor (has added noise)\n",
        "\n",
        "  #run kalman filter passing in the measurement of angle\n",
        "  kf.step([[0],[0]], np.atleast_1d(am[i])) \n",
        "  mukf, pkf = kf.probe() #state as estimated by kalman filter\n",
        "\n",
        "  #squared error between estimate and true state\n",
        "  kfaerr[i] = mukf[0][0]-a[i]\n",
        "  kfverr[i] = mukf[1][0]-v[i]\n",
        "\n",
        "  #run EKF passing in the measurement of angle\n",
        "  ekf.step(dt,[[0],[0]], np.atleast_1d(am[i]))\n",
        "  muekf, pekf = ekf.probe()\n",
        "\n",
        "  #squared error between estimate and true\n",
        "  ekfaerr[i] = muekf[0][0]-a[i]\n",
        "  ekfverr[i] = muekf[1][0]-v[i]\n",
        "\n",
        "print(\"KF RMS Error=\", math.sqrt((kfaerr**2+kfverr**2).sum()/numSteps))\n",
        "print(\"EKF RMS Error=\", math.sqrt((ekfaerr**2+ekfverr**2).sum()/numSteps))\n",
        "\n",
        "plt.plot(a,v)"
      ]
    },
    {
      "cell_type": "code",
      "execution_count": null,
      "metadata": {
        "colab": {
          "base_uri": "https://localhost:8080/",
          "height": 279
        },
        "id": "KVEJcBbyFYFx",
        "outputId": "19b10c46-4432-4dc7-bc20-c0a07146fbf3"
      },
      "outputs": [
        {
          "output_type": "display_data",
          "data": {
            "image/png": "[encoded data removed]",
            "text/plain": [
              "<Figure size 432x288 with 2 Axes>"
            ]
          },
          "metadata": {
            "needs_background": "light"
          }
        }
      ],
      "source": [
        "fig, (ax1,ax2) = plt.subplots(2,1)\n",
        "fig.subplots_adjust(hspace=0.5)\n",
        "t = np.arange(numSteps)\n",
        "ax1.plot(t,kfaerr,'b',ekfaerr,'r')\n",
        "ax1.set_ylabel(\"angle error\")\n",
        "ax1.legend((\"KFerr\", \"EKFerr\"))\n",
        "\n",
        "ax2.plot(t,kfverr,'b',ekfverr,'r')\n",
        "ax2.set_ylabel(\"velocity error\")\n",
        "ax2.set_xlabel(\"timesteps\")\n",
        "ax2.legend((\"KFerr\", \"EKFerr\"))\n",
        "plt.show()"
      ]
    },
    {
      "cell_type": "markdown",
      "metadata": {
        "id": "xgB5-VLZfwjf"
      },
      "source": [
        "\n",
        "\n",
        "**Question 3: Tabulate the rms error for the two filters**\n",
        "\n",
        "\\begin{array} {|c|c|c|c||c|c|}\n",
        "\\hline\n",
        "dt & R_{00} & R_{01} & Q & KFRMSErr & EKFRMSErr \\\\\n",
        "\\hline\n",
        "0.001 & 0 & 0 & 0.01 & 0.156 & 0.003  \\\\\n",
        "0.01 & 0 & 0 & 0.01 & 2.831 & 0.003  \\\\\n",
        "0.001 & 0 & 0.0 & 0.1 & 0.160 & 0.013  \\\\\n",
        "0.001 & 0 & 0.01 & 0.01 & 0.617 & 0.603  \\\\\n",
        "0.001 & 0.01 & 0.0 & 0.01 & 56.494 & 0.061  \\\\\n",
        "\\hline\n",
        "\\end{array}"
      ]
    },
    {
      "cell_type": "markdown",
      "metadata": {
        "id": "9QzcI8tjl_xW"
      },
      "source": [
        "**Question 4: Briefly discuss the results**\n",
        "\n",
        "Your answer here - \n",
        "\n",
        " \n",
        "\n",
        "1.   Increasing the time step (dt) increses the error.\n",
        "2.   Error for Extended Kalman filter is generally lesser than that of kalman filter.\n",
        "3. Non linearity(noise) in angle motion equation leads to high error in KF whereas it is much lesser comparatively in EKF. Whereas noise in angluar velocity motion equation results in similar error for both KF and EKF.\n",
        "\n"
      ]
    }
  ],
  "metadata": {
    "colab": {
      "provenance": []
    },
    "kernelspec": {
      "display_name": "Python 3",
      "name": "python3"
    },
    "language_info": {
      "name": "python"
    }
  },
  "nbformat": 4,
  "nbformat_minor": 0
}